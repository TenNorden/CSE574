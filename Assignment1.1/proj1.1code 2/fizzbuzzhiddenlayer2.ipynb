{
 "cells": [
  {
   "cell_type": "code",
   "execution_count": 36,
   "metadata": {},
   "outputs": [],
   "source": [
    "import numpy as np\n",
    "import tensorflow as tf\n",
    "from tqdm import tqdm_notebook\n",
    "import pandas as pd\n",
    "from keras.utils import np_utils\n",
    "%matplotlib inline"
   ]
  },
  {
   "cell_type": "markdown",
   "metadata": {},
   "source": [
    "## Logic Based FizzBuzz Function [Software 1.0]"
   ]
  },
  {
   "cell_type": "code",
   "execution_count": 37,
   "metadata": {
    "collapsed": true
   },
   "outputs": [],
   "source": [
    "def fizzbuzz(n):\n",
    "    \n",
    "    # Logic-based # will give 100% accurate output\n",
    "    #if remainder is 0, return fizzbuzz\n",
    "    if n % 3 == 0 and n % 5 == 0:\n",
    "        return 'FizzBuzz'\n",
    "    elif n % 3 == 0:\n",
    "        return 'Fizz'\n",
    "    elif n % 5 == 0:\n",
    "        return 'Buzz'\n",
    "    else:\n",
    "        return 'Other'"
   ]
  },
  {
   "cell_type": "markdown",
   "metadata": {},
   "source": [
    "## Create Training and Testing Datasets in CSV Format"
   ]
  },
  {
   "cell_type": "code",
   "execution_count": 38,
   "metadata": {
    "collapsed": true
   },
   "outputs": [],
   "source": [
    "def createInputCSV(start,end,filename):\n",
    "    \n",
    "    # Why list in Python?\n",
    "    # create a list  in which the input and output can be appended. list in python is easy to handle\n",
    "    inputData   = []\n",
    "    outputData  = []\n",
    "    \n",
    "    # Why do we need training Data?\n",
    "    # For a supervised machine learning, we know the correct answer. \n",
    "    #So, training Data is needed to train the machine learning algorithms and increase prediction accuracy. \n",
    "    for i in range(start,end):\n",
    "        inputData.append(i)\n",
    "        outputData.append(fizzbuzz(i))\n",
    "    \n",
    "    # Why Dataframe? \n",
    "    #With Dataframe we can have 2-D datastructures with columns of different data in python\n",
    "    dataset = {}\n",
    "    dataset[\"input\"]  = inputData  # input, label => column names\n",
    "    dataset[\"label\"] = outputData  \n",
    "    \n",
    "    # Writing to csv\n",
    "    pd.DataFrame(dataset).to_csv(filename)\n",
    "    \n",
    "    print(filename, \"Created!\")"
   ]
  },
  {
   "cell_type": "code",
   "execution_count": 39,
   "metadata": {
    "collapsed": true
   },
   "outputs": [],
   "source": [
    "#createInputCSV(1, 100, 'test')"
   ]
  },
  {
   "cell_type": "markdown",
   "metadata": {},
   "source": [
    "## Processing Input and Label Data"
   ]
  },
  {
   "cell_type": "code",
   "execution_count": 40,
   "metadata": {},
   "outputs": [],
   "source": [
    "def processData(dataset):\n",
    "    \n",
    "    # Why do we have to process?\n",
    "    #We process data to make the datasets formatted as inputs for machine learning. \n",
    "    #Here data and label are encoded into 2D arrays of binary bits or input activations\n",
    "    data   = dataset['input'].values\n",
    "    labels = dataset['label'].values\n",
    "    \n",
    "    processedData  = encodeData(data)\n",
    "    processedLabel = encodeLabel(labels)\n",
    "    \n",
    "    return processedData, processedLabel\n"
   ]
  },
  {
   "cell_type": "code",
   "execution_count": 41,
   "metadata": {},
   "outputs": [],
   "source": [
    "import numpy as np\n",
    "\n",
    "#encode data to binary with 10 bits\n",
    "def encodeData(data):\n",
    "    \n",
    "    processedData = []\n",
    "    \n",
    "    for dataInstance in data:\n",
    "        \n",
    "        # Why do we have number 10? \n",
    "        #number of bit for 1000 in binary is 10. Turning inputs into a vector of activations. \n",
    "        # converting to binary: We get more number of input neurons by converting to binary\n",
    "        #>> moves binary bits of datainstance one to the right, & performs logical AND with binary of 1 and outputs binary\n",
    "        processedData.append([dataInstance >> d & 1 for d in range(10)])\n",
    "    \n",
    "    #returns an array of processed data in binaries of 10 bits\n",
    "    return np.array(processedData)\n",
    "\n"
   ]
  },
  {
   "cell_type": "code",
   "execution_count": 42,
   "metadata": {
    "collapsed": true
   },
   "outputs": [],
   "source": [
    "# encode all labels # changes output to [1,0,0,0],[0,1,0,0],[0,0,1,0],[0,0,0,1]\n",
    "def encodeLabel(labels):\n",
    "    \n",
    "    processedLabel = []\n",
    "    \n",
    "    for labelInstance in labels:\n",
    "        if(labelInstance == \"FizzBuzz\"):\n",
    "            # Fizzbuzz\n",
    "            processedLabel.append([3])\n",
    "        elif(labelInstance == \"Fizz\"):\n",
    "            # Fizz\n",
    "            processedLabel.append([1])\n",
    "        elif(labelInstance == \"Buzz\"):\n",
    "            # Buzz\n",
    "            processedLabel.append([2])\n",
    "        else:\n",
    "            # Other\n",
    "            processedLabel.append([0])\n",
    "\n",
    "    return np_utils.to_categorical(np.array(processedLabel),4) "
   ]
  },
  {
   "cell_type": "code",
   "execution_count": 43,
   "metadata": {},
   "outputs": [
    {
     "name": "stdout",
     "output_type": "stream",
     "text": [
      "training.csv Created!\n",
      "testing.csv Created!\n"
     ]
    }
   ],
   "source": [
    "# Create datafiles\n",
    "createInputCSV(101,1001,'training.csv')\n",
    "createInputCSV(1,101,'testing.csv')"
   ]
  },
  {
   "cell_type": "code",
   "execution_count": 44,
   "metadata": {},
   "outputs": [
    {
     "name": "stdout",
     "output_type": "stream",
     "text": [
      "[0 1 1 0 0 1 1 0 0 0]\n",
      "[0. 1. 0. 0.]\n"
     ]
    }
   ],
   "source": [
    "# Read Dataset using pandas\n",
    "trainingData = pd.read_csv('training.csv')\n",
    "testingData  = pd.read_csv('testing.csv')\n",
    "\n",
    "# Process Dataset # calls pr0cessData function which is defined earlier\n",
    "processedTrainingData, processedTrainingLabel = processData(trainingData)\n",
    "processedTestingData, processedTestingLabel   = processData(testingData)\n",
    "\n",
    "#check\n",
    "print(processedTrainingData[1])\n",
    "print(processedTrainingLabel[1])"
   ]
  },
  {
   "cell_type": "markdown",
   "metadata": {},
   "source": [
    "## Tensorflow Model Definition"
   ]
  },
  {
   "cell_type": "code",
   "execution_count": 45,
   "metadata": {
    "collapsed": true
   },
   "outputs": [],
   "source": [
    "# Defining Placeholder\n",
    "inputTensor  = tf.placeholder(tf.float32, [None, 10]) #for 10bit input vector activations\n",
    "outputTensor = tf.placeholder(tf.float32, [None, 4])  #a bucket for 4 classes of output\n",
    "\n"
   ]
  },
  {
   "cell_type": "code",
   "execution_count": 46,
   "metadata": {},
   "outputs": [],
   "source": [
    "#Neural Network model for 2 hidden layer is defined \n",
    "\n",
    "NUM_HIDDEN_NEURONS_LAYER_1 = 100\n",
    "NUM_HIDDEN_NEURONS_LAYER_2 = 100\n",
    "\n",
    "\n",
    "# hyperparameter. change from 0.1 to 1 for this project\n",
    "LEARNING_RATE = 0.1\n",
    "\n",
    "# Initializing the weights to Normal Distribution   (random values)\n",
    "def init_weights(shape):\n",
    "    return tf.Variable(tf.random_normal(shape,stddev=0.01))\n",
    "\n",
    "# Initializing the input to hidden layer weights\n",
    "input_hidden_weights1  = init_weights([10, NUM_HIDDEN_NEURONS_LAYER_1])    \n",
    "\n",
    "\n",
    "#Initializing the input to hidden layer 2 weights\n",
    "input_hidden_weights2  = init_weights([NUM_HIDDEN_NEURONS_LAYER_1, NUM_HIDDEN_NEURONS_LAYER_2])\n",
    "\n",
    "\n",
    "# Initializing the hidden to output layer 2 weights\n",
    "hidden_output_weights2 = init_weights([NUM_HIDDEN_NEURONS_LAYER_2, 4])\n",
    "\n",
    "\n",
    "# Computing values at the hidden layer 1\n",
    "#Relu is applied on te sum of the product of the inputtensor and input_hidden_weights;  \n",
    "hidden_layer1 = tf.nn.relu(tf.matmul(inputTensor, input_hidden_weights1))  \n",
    "\n",
    "#computing values at 2nd hiddend layer\n",
    "hidden_layer2 = tf.nn.relu(tf.matmul(hidden_layer1, input_hidden_weights2))\n",
    "\n",
    "\n",
    "\n",
    "# Computing values at the output layer\n",
    "#output of hidden layer is fed as input for the output layer and it is multiplied with weights\n",
    "output_layer = tf.matmul(hidden_layer2, hidden_output_weights2)\n",
    "\n",
    "\n",
    "# Defining Error Function # cost function. we need to minimize it  \n",
    "#softmax activation function for classification problem to compute probabilites for classes\n",
    "#cross_entropy error function as used for this classifier problem which makes backpropagation math easier\n",
    "error_function = tf.reduce_mean(tf.nn.softmax_cross_entropy_with_logits_v2(logits=output_layer, labels=outputTensor))\n",
    "\n",
    "# Defining Learning Algorithm and Training Parameters\n",
    "# gradientdescent optimizer is used to minimize the error function. \n",
    "#set learning rate hyper parameter. determines the step of the gradient descent. \n",
    "training = tf.train.GradientDescentOptimizer(LEARNING_RATE).minimize(error_function)  #optimizer, minimizing error\n",
    "\n",
    "# Prediction Function # prediction will be the largest output\n",
    "prediction = tf.argmax(output_layer, 1)"
   ]
  },
  {
   "cell_type": "markdown",
   "metadata": {},
   "source": [
    "\n",
    "# Training the Model"
   ]
  },
  {
   "cell_type": "code",
   "execution_count": 47,
   "metadata": {},
   "outputs": [
    {
     "data": {
      "application/vnd.jupyter.widget-view+json": {
       "model_id": "6e6bdc2275304e918e8eb53e76afa7d7"
      }
     },
     "metadata": {},
     "output_type": "display_data"
    },
    {
     "name": "stdout",
     "output_type": "stream",
     "text": [
      "\n"
     ]
    }
   ],
   "source": [
    "NUM_OF_EPOCHS = 5000  #number of forward and backward propagation of the full training data\n",
    "BATCH_SIZE = 128  #number of training data set in one forward and backward propagation \n",
    "\n",
    "training_accuracy = []\n",
    "\n",
    "# A tensorflow session is set to run the tensorflow model graph above. \n",
    "with tf.Session() as sess:  \n",
    "    \n",
    "    # Set Global Variables ?\n",
    "    #Initialize all the variables (weights) at once. \n",
    "    tf.global_variables_initializer().run()\n",
    "    \n",
    "    for epoch in tqdm_notebook(range(NUM_OF_EPOCHS)):\n",
    "        \n",
    "        #Shuffle the Training Dataset at each epoch\n",
    "        p = np.random.permutation(range(len(processedTrainingData)))\n",
    "        processedTrainingData  = processedTrainingData[p]\n",
    "        processedTrainingLabel = processedTrainingLabel[p]\n",
    "        \n",
    "        # Start batch training  \n",
    "        for start in range(0, len(processedTrainingData), BATCH_SIZE):\n",
    "            end = start + BATCH_SIZE\n",
    "            sess.run(training, feed_dict={inputTensor: processedTrainingData[start:end], \n",
    "                                          outputTensor: processedTrainingLabel[start:end]})\n",
    "            \n",
    "        # Training accuracy for an epoch\n",
    "        training_accuracy.append(np.mean(np.argmax(processedTrainingLabel, axis=1) ==\n",
    "                             sess.run(prediction, feed_dict={inputTensor: processedTrainingData,\n",
    "                                                             outputTensor: processedTrainingLabel})))\n",
    "    # Testing : processedtesting data as input\n",
    "    predictedTestLabel = sess.run(prediction, feed_dict={inputTensor: processedTestingData})\n",
    "   # erroroutput = sess.run(error_function, feed_dict={inputTensor:processedTrainingData,\n",
    "#                                                      outputTensor: processedTrainingLabel})"
   ]
  },
  {
   "cell_type": "code",
   "execution_count": 48,
   "metadata": {},
   "outputs": [
    {
     "data": {
      "text/plain": [
       "<matplotlib.axes._subplots.AxesSubplot at 0x122dbb7f0>"
      ]
     },
     "execution_count": 48,
     "metadata": {},
     "output_type": "execute_result"
    },
    {
     "data": {
      "image/png": "[encoded data removed]",
      "text/plain": [
       "<matplotlib.figure.Figure at 0x122e6bdd8>"
      ]
     },
     "metadata": {},
     "output_type": "display_data"
    }
   ],
   "source": [
    "# pandas dataframe. plotting traning accuracy for every epochs. \n",
    "df = pd.DataFrame()\n",
    "df['acc'] = training_accuracy\n",
    "df.plot(grid=True)\n"
   ]
  },
  {
   "cell_type": "code",
   "execution_count": 49,
   "metadata": {
    "collapsed": true
   },
   "outputs": [],
   "source": [
    "#here decode the output data\n",
    "def decodeLabel(encodedLabel):\n",
    "    if encodedLabel == 0:\n",
    "        return \"Other\"\n",
    "    elif encodedLabel == 1:\n",
    "        return \"Fizz\"\n",
    "    elif encodedLabel == 2:\n",
    "        return \"Buzz\"\n",
    "    elif encodedLabel == 3:\n",
    "        return \"FizzBuzz\""
   ]
  },
  {
   "cell_type": "markdown",
   "metadata": {},
   "source": [
    "# Testing the Model [Software 2.0]"
   ]
  },
  {
   "cell_type": "code",
   "execution_count": 50,
   "metadata": {},
   "outputs": [
    {
     "name": "stdout",
     "output_type": "stream",
     "text": [
      "Errors: 4  Correct :96\n",
      "Testing Accuracy: 96.0\n"
     ]
    }
   ],
   "source": [
    "# finding the accuracy by comparing with the known testing labels.\n",
    "\n",
    "wrong   = 0\n",
    "right   = 0\n",
    "\n",
    "predictedTestLabelList = []\n",
    "\n",
    "for i,j in zip(processedTestingLabel,predictedTestLabel):\n",
    "    predictedTestLabelList.append(decodeLabel(j))\n",
    "    \n",
    "    if np.argmax(i) == j:\n",
    "        right = right + 1\n",
    "    else:\n",
    "        wrong = wrong + 1\n",
    "\n",
    "print(\"Errors: \" + str(wrong), \" Correct :\" + str(right))\n",
    "\n",
    "print(\"Testing Accuracy: \" + str(right/(right+wrong)*100))\n",
    "\n",
    "# Please input your UBID and personNumber \n",
    "testDataInput = testingData['input'].tolist()\n",
    "testDataLabel = testingData['label'].tolist()\n",
    "\n",
    "testDataInput.insert(0, \"tenzinno\")\n",
    "testDataLabel.insert(0, \"50096989\")\n",
    "\n",
    "testDataInput.insert(1, \"tenzinno\")\n",
    "testDataLabel.insert(1, \"50096989\")\n",
    "\n",
    "predictedTestLabelList.insert(0, \"\")\n",
    "predictedTestLabelList.insert(1, \"\")\n",
    "\n",
    "#create columns in pandas dataframe with column names input and label, with values test data and respective labels\n",
    "output = {}\n",
    "output[\"input\"] = testDataInput\n",
    "output[\"label\"] = testDataLabel\n",
    "\n",
    "# create column name predicted label with the predicted labels for the test data\n",
    "output[\"predicted_label\"] = predictedTestLabelList\n",
    "\n",
    "# create a csv output file of the pandas dataframe\n",
    "opdf = pd.DataFrame(output)\n",
    "opdf.to_csv('output2.csv')"
   ]
  },
  {
   "cell_type": "code",
   "execution_count": null,
   "metadata": {
    "collapsed": true
   },
   "outputs": [],
   "source": []
  }
 ],
 "metadata": {
  "kernelspec": {
   "display_name": "Python 3",
   "language": "python",
   "name": "python3"
  },
  "language_info": {
   "codemirror_mode": {
    "name": "ipython",
    "version": 3
   },
   "file_extension": ".py",
   "mimetype": "text/x-python",
   "name": "python",
   "nbconvert_exporter": "python",
   "pygments_lexer": "ipython3",
   "version": "3.6.1"
  }
 },
 "nbformat": 4,
 "nbformat_minor": 2
}
