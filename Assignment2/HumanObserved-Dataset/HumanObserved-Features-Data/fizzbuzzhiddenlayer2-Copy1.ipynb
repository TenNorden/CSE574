{
 "cells": [
  {
   "cell_type": "code",
   "execution_count": 15,
   "metadata": {},
   "outputs": [],
   "source": [
    "import numpy as np\n",
    "import csv\n",
    "import tensorflow as tf\n",
    "from tqdm import tqdm_notebook\n",
    "import pandas as pd\n",
    "from keras.utils import np_utils\n",
    "%matplotlib inline"
   ]
  },
  {
   "cell_type": "markdown",
   "metadata": {},
   "source": [
    "## Create Training and Testing Datasets in CSV Format"
   ]
  },
  {
   "cell_type": "code",
   "execution_count": 16,
   "metadata": {
    "collapsed": true
   },
   "outputs": [],
   "source": [
    "import numpy as np\n",
    "\n",
    "#encode data to binary with 10 bits\n",
    "def encodeData(data):\n",
    "    \n",
    "    processedData = []\n",
    "    \n",
    "    for dataInstance in data:\n",
    "        \n",
    "        # Why do we have number 10? \n",
    "        #number of bit for 1000 in binary is 10. Turning inputs into a vector of activations. \n",
    "        # converting to binary: We get more number of input neurons by converting to binary\n",
    "        #>> moves binary bits of datainstance one to the right, & performs logical AND with binary of 1 and outputs binary\n",
    "        processedData.append([dataInstance >> d & 1 for d in range(10)])\n",
    "    \n",
    "    #returns an array of processed data in binaries of 10 bits\n",
    "    return np.array(processedData)\n",
    "\n"
   ]
  },
  {
   "cell_type": "code",
   "execution_count": 17,
   "metadata": {},
   "outputs": [
    {
     "name": "stdout",
     "output_type": "stream",
     "text": [
      "(1026, 10)\n",
      "[['0359a' '2' '1' '1' '0' '2' '2' '0' '2' '2']\n",
      " ['0577a' '2' '1' '1' '0' '2' '2' '0' '1' '2']\n",
      " ['1120a' '2' '1' '1' '3' '2' '2' '0' '2' '2']\n",
      " ['1120b' '1' '1' '1' '0' '2' '2' '0' '2' '2']\n",
      " ['1120c' '2' '1' '1' '0' '2' '2' '0' '0' '2']\n",
      " ['1121a' '2' '1' '1' '3' '2' '2' '0' '1' '2']\n",
      " ['1121b' '2' '1' '1' '0' '2' '2' '0' '3' '2']\n",
      " ['1121c' '1' '1' '1' '0' '2' '2' '0' '1' '2']\n",
      " ['1229b' '1' '1' '1' '3' '2' '2' '0' '2' '2']\n",
      " ['1302a' '2' '1' '1' '3' '2' '2' '0' '0' '2']]\n",
      "['0359a' '0359b' '1']\n"
     ]
    }
   ],
   "source": [
    "# get data from .csv file and parse them \n",
    "#filename = filename.csv\n",
    "def get_data(filename):\n",
    "    with open(filename, 'r') as f:\n",
    "        dat = csv.reader(f, delimiter = ',')\n",
    "        #get column name from first row\n",
    "        col_name = next(dat)\n",
    "        #get all the rows as a list\n",
    "        data = list(dat)\n",
    "        #return data as numpy array\n",
    "    return np.array(data)\n",
    "\n",
    "\n",
    "#Processing Dataset # concatenation of paired up img_ids\n",
    "# args: data: humanobserved-features , # pair: list of same or diff pairs. \n",
    "def process_data(data, pair, x):\n",
    "    \n",
    "    features = []\n",
    "    target = []\n",
    "    for i in range(len(pair)):\n",
    "        for j in range(len(data)):\n",
    "            if pair[i][x] == data[j][0]:\n",
    "                f = (data[j][1:]) \n",
    "                features.append(f)\n",
    "    \n",
    "    return features\n",
    "\n",
    "def getTarget(pair):\n",
    "    return  np.array([pair[t][-1] for t in range(len(pair))]).astype(float)"
   ]
  },
  {
   "cell_type": "code",
   "execution_count": null,
   "metadata": {
    "collapsed": true
   },
   "outputs": [],
   "source": [
    "data = get_data('HumanObserved-Features-Data.csv')\n",
    "dat = np.array([data[d][1:] for d in range(len(data))])\n",
    "diff_pair = get_data('diffn_pairs.csv')\n",
    "same_pair = get_data('same_pairs.csv')\n",
    "\n",
    "print(dat.shape)\n",
    "#print(d_pair.shape)\n",
    "#print(s_pair.shape)\n",
    "print(dat[:10])\n",
    "print(same_pair[0])"
   ]
  },
  {
   "cell_type": "code",
   "execution_count": null,
   "metadata": {
    "collapsed": true
   },
   "outputs": [],
   "source": [
    "def getData(data, pair, operation):\n",
    "    img1 = np.array(process_data(data, pair, x = 0)).astype(float)\n",
    "    img2 = np.array(process_data(data, pair, x = 1)).astype(float)\n",
    "    if operation == 'concatenate':\n",
    "        feature = np.array(np.concatenate((img1, img2), axis = 1))\n",
    "        \n",
    "    elif operation =='subtract':\n",
    "        feature = np.abs(np.array(img1 - img2))\n",
    "        \n",
    "    return feature"
   ]
  },
  {
   "cell_type": "code",
   "execution_count": null,
   "metadata": {
    "collapsed": true
   },
   "outputs": [],
   "source": [
    "# get target\n",
    "Target_same = getTarget(same_pair)\n",
    "Target_diff = getTarget(diff_pair)\n",
    "print(Target_same.shape)\n",
    "print(Target_diff.shape)"
   ]
  },
  {
   "cell_type": "code",
   "execution_count": null,
   "metadata": {
    "collapsed": true
   },
   "outputs": [],
   "source": [
    "# get concatenate and subtrated features for same and different pairs\n",
    "same_sub = getData(dat, same_pair, operation = 'subtract')\n",
    "same_conc = getData(dat, same_pair, operation = 'concatenate')\n",
    "diff_sub = getData(dat, diff_pair, operation = 'subtract')\n",
    "diff_conc = getData(dat, diff_pair, operation = 'concatenate')\n",
    "print(same_sub[1])\n",
    "print(same_conc[1])\n",
    "print(diff_conc.shape)\n",
    "print(diff_sub.shape)"
   ]
  },
  {
   "cell_type": "code",
   "execution_count": null,
   "metadata": {
    "collapsed": true
   },
   "outputs": [],
   "source": [
    "# add target to concatenated feature dataset\n",
    "same_conc_t = np.c_[same_conc, Target_same]\n",
    "diff_conc_t = np.c_[diff_conc, Target_diff]\n",
    "\n",
    "diff_conc_t = np.array(diff_conc_t[:791])\n",
    "print(same_conc_t.shape)\n",
    "print(diff_conc_t.shape)\n",
    "\n",
    "\n",
    "# add target to subtracted feature dataset\n",
    "same_sub_t = np.c_[same_sub, Target_same]\n",
    "diff_sub_t = np.c_[diff_sub, Target_diff]\n",
    "diff_sub_t = np.array(diff_sub_t[:791])\n",
    "print(same_sub_t.shape)\n",
    "print(diff_sub_t.shape)\n"
   ]
  },
  {
   "cell_type": "code",
   "execution_count": null,
   "metadata": {
    "collapsed": true
   },
   "outputs": [],
   "source": []
  },
  {
   "cell_type": "code",
   "execution_count": 20,
   "metadata": {},
   "outputs": [
    {
     "name": "stdout",
     "output_type": "stream",
     "text": [
      "(791,)\n",
      "(293032,)\n",
      "(791, 19)\n",
      "(791, 19)\n"
     ]
    }
   ],
   "source": [
    "# Read Dataset using pandas\n",
    "\n",
    "\n",
    "# get target\n",
    "Target_same = getTarget(same_pair)\n",
    "Target_diff = getTarget(diff_pair)\n",
    "print(Target_same.shape)\n",
    "print(Target_diff.shape)\n",
    "\n",
    "\n",
    "same_conc = pd.read_csv('same_conc.csv', delimiter = ',', header = None).values\n",
    "diff_conc  = pd.read_csv('diff_conc.csv', delimiter = ',', header = None).values\n",
    "\n",
    "\n",
    "# add target to concatenated feature dataset\n",
    "same_conc_t = np.c_[same_conc, Target_same]\n",
    "diff_conc_t = np.c_[diff_conc, Target_diff]\n",
    "\n",
    "diff_conc_t = np.array(diff_conc_t[:791])\n",
    "print(same_conc_t.shape)\n",
    "print(diff_conc_t.shape)"
   ]
  },
  {
   "cell_type": "code",
   "execution_count": 257,
   "metadata": {},
   "outputs": [
    {
     "name": "stdout",
     "output_type": "stream",
     "text": [
      "(1582, 19)\n",
      "[[2. 2. 1. 3. 2. 2. 0. 1. 1. 1. 1. 1. 0. 0. 3. 1. 2. 1. 1.]\n",
      " [2. 1. 1. 0. 2. 2. 0. 2. 2. 2. 1. 1. 0. 2. 2. 1. 0. 1. 0.]]\n",
      "(1582,)\n",
      "(1582, 18)\n"
     ]
    }
   ],
   "source": [
    "#1. human observed feature concatenated # concatenate same and diff pairs matrices and shuffle them\n",
    "h_obs_conc = np.concatenate((same_conc_t, diff_conc_t), axis = 0)\n",
    "np.random.shuffle(h_obs_conc)  # randomly shuffle same and diff pairs\n",
    "\n",
    "print(h_obs_conc.shape)\n",
    "print(h_obs_conc[:2]) # print first five rows of the parsed data\n",
    "\n",
    "Target_conc = h_obs_conc[:, -1]\n",
    "print(Target_conc.shape)\n",
    "\n",
    "#get concatenated matrix after shuffling diff and same pairs\n",
    "\n",
    "feature_conc = h_obs_conc[:,:-1]  \n",
    "print(feature_conc.shape)\n",
    "t =int(0.9*len(feature_conc))\n",
    "TrainingData = feature_conc[:t]\n",
    "TestingData = feature_conc[t+1:]\n",
    "\n",
    "TrainingTarget = np.array(Target_conc[:t])\n",
    "TestingTarget = np.array(Target_conc[t+1:])\n",
    "\n",
    "TrainingTarget = np.array([[i] for i in TrainingTarget])\n",
    "TestingTarget = np.array([[i] for i in TestingTarget])\n",
    "\n",
    "# print(TrainingData.shape)\n",
    "\n",
    "# print(TestingData.shape)\n",
    "\n"
   ]
  },
  {
   "cell_type": "code",
   "execution_count": 258,
   "metadata": {},
   "outputs": [
    {
     "name": "stdout",
     "output_type": "stream",
     "text": [
      "[[2. 2. 1. 3. 2. 2. 0. 1. 1. 1. 1. 1. 0. 0. 3. 1. 2. 1. 1.]\n",
      " [2. 1. 1. 0. 2. 2. 0. 2. 2. 2. 1. 1. 0. 2. 2. 1. 0. 1. 0.]\n",
      " [2. 1. 1. 0. 2. 2. 0. 2. 2. 2. 1. 1. 0. 2. 2. 3. 3. 2. 0.]\n",
      " [2. 1. 1. 3. 0. 2. 0. 1. 2. 1. 0. 1. 0. 2. 2. 0. 3. 2. 1.]\n",
      " [2. 1. 1. 0. 2. 2. 0. 2. 2. 2. 1. 1. 1. 2. 3. 1. 3. 2. 0.]\n",
      " [2. 1. 1. 0. 2. 2. 0. 2. 2. 2. 1. 1. 0. 2. 2. 3. 4. 2. 0.]\n",
      " [0. 0. 1. 3. 2. 2. 0. 0. 2. 1. 2. 1. 2. 2. 2. 1. 0. 1. 1.]\n",
      " [2. 0. 1. 0. 2. 1. 0. 0. 2. 2. 1. 1. 0. 2. 3. 1. 4. 2. 1.]\n",
      " [2. 1. 1. 0. 2. 2. 0. 1. 2. 0. 1. 1. 3. 2. 2. 0. 0. 2. 0.]\n",
      " [2. 1. 1. 0. 2. 2. 0. 1. 2. 0. 1. 1. 0. 2. 2. 1. 2. 2. 0.]]\n",
      "[1. 0. 0. 1. 0. 0. 1. 1. 0. 0.]\n",
      "[[2. 2. 1. 3. 2. 2. 0. 1. 1. 1. 1. 1. 0. 0. 3. 1. 2. 1.]\n",
      " [2. 1. 1. 0. 2. 2. 0. 2. 2. 2. 1. 1. 0. 2. 2. 1. 0. 1.]\n",
      " [2. 1. 1. 0. 2. 2. 0. 2. 2. 2. 1. 1. 0. 2. 2. 3. 3. 2.]\n",
      " [2. 1. 1. 3. 0. 2. 0. 1. 2. 1. 0. 1. 0. 2. 2. 0. 3. 2.]\n",
      " [2. 1. 1. 0. 2. 2. 0. 2. 2. 2. 1. 1. 1. 2. 3. 1. 3. 2.]\n",
      " [2. 1. 1. 0. 2. 2. 0. 2. 2. 2. 1. 1. 0. 2. 2. 3. 4. 2.]\n",
      " [0. 0. 1. 3. 2. 2. 0. 0. 2. 1. 2. 1. 2. 2. 2. 1. 0. 1.]\n",
      " [2. 0. 1. 0. 2. 1. 0. 0. 2. 2. 1. 1. 0. 2. 3. 1. 4. 2.]\n",
      " [2. 1. 1. 0. 2. 2. 0. 1. 2. 0. 1. 1. 3. 2. 2. 0. 0. 2.]\n",
      " [2. 1. 1. 0. 2. 2. 0. 1. 2. 0. 1. 1. 0. 2. 2. 1. 2. 2.]]\n",
      "[[2. 2. 1. 3. 2. 2. 0. 1. 1. 1. 1. 1. 0. 0. 3. 1. 2. 1.]\n",
      " [2. 1. 1. 0. 2. 2. 0. 2. 2. 2. 1. 1. 0. 2. 2. 1. 0. 1.]\n",
      " [2. 1. 1. 0. 2. 2. 0. 2. 2. 2. 1. 1. 0. 2. 2. 3. 3. 2.]\n",
      " [2. 1. 1. 3. 0. 2. 0. 1. 2. 1. 0. 1. 0. 2. 2. 0. 3. 2.]\n",
      " [2. 1. 1. 0. 2. 2. 0. 2. 2. 2. 1. 1. 1. 2. 3. 1. 3. 2.]\n",
      " [2. 1. 1. 0. 2. 2. 0. 2. 2. 2. 1. 1. 0. 2. 2. 3. 4. 2.]\n",
      " [0. 0. 1. 3. 2. 2. 0. 0. 2. 1. 2. 1. 2. 2. 2. 1. 0. 1.]\n",
      " [2. 0. 1. 0. 2. 1. 0. 0. 2. 2. 1. 1. 0. 2. 3. 1. 4. 2.]\n",
      " [2. 1. 1. 0. 2. 2. 0. 1. 2. 0. 1. 1. 3. 2. 2. 0. 0. 2.]\n",
      " [2. 1. 1. 0. 2. 2. 0. 1. 2. 0. 1. 1. 0. 2. 2. 1. 2. 2.]]\n",
      "[[1.]\n",
      " [0.]\n",
      " [0.]\n",
      " [1.]\n",
      " [0.]\n",
      " [0.]\n",
      " [1.]\n",
      " [1.]\n",
      " [0.]\n",
      " [0.]]\n"
     ]
    }
   ],
   "source": [
    "print(h_obs_conc[:10])\n",
    "print(Target_conc[:10])\n",
    "print(feature_conc[:10])\n",
    "print(TrainingData[:10])\n",
    "print(TrainingTarget[:10])"
   ]
  },
  {
   "cell_type": "markdown",
   "metadata": {},
   "source": [
    "## Tensorflow Model Definition"
   ]
  },
  {
   "cell_type": "code",
   "execution_count": 259,
   "metadata": {
    "collapsed": true
   },
   "outputs": [],
   "source": [
    "# Defining Placeholder\n",
    "inputTensor  = tf.placeholder(tf.float32, [None, 18]) #for 10bit input vector activations\n",
    "outputTensor = tf.placeholder(tf.float32, [None, 1])  #a bucket for 4 classes of output\n"
   ]
  },
  {
   "cell_type": "code",
   "execution_count": 260,
   "metadata": {},
   "outputs": [],
   "source": [
    "#Neural Network model for 2 hidden layer is defined \n",
    "\n",
    "NUM_HIDDEN_NEURONS_LAYER_1 = 100\n",
    "NUM_HIDDEN_NEURONS_LAYER_2 = 100\n",
    "\n",
    "\n",
    "# hyperparameter. change from 0.1 to 1 for this project\n",
    "LEARNING_RATE = 0.001\n",
    "\n",
    "# Initializing the weights to Normal Distribution   (random values)\n",
    "def init_weights(shape):\n",
    "    return tf.Variable(tf.random_normal(shape,stddev=0.01))\n",
    "\n",
    "# Initializing the input to hidden layer weights\n",
    "input_hidden_weights1  = init_weights([18, NUM_HIDDEN_NEURONS_LAYER_1])    \n",
    "\n",
    "\n",
    "#Initializing the input to hidden layer 2 weights\n",
    "input_hidden_weights2  = init_weights([NUM_HIDDEN_NEURONS_LAYER_1, NUM_HIDDEN_NEURONS_LAYER_2])\n",
    "\n",
    "\n",
    "# Initializing the hidden to output layer 2 weights\n",
    "hidden_output_weights2 = init_weights([NUM_HIDDEN_NEURONS_LAYER_2, 1])\n",
    "\n",
    "\n",
    "# Computing values at the hidden layer 1\n",
    "#Relu is applied on te sum of the product of the inputtensor and input_hidden_weights;  \n",
    "hidden_layer1 = tf.nn.relu(tf.matmul(inputTensor, input_hidden_weights1))  \n",
    "\n",
    "#computing values at 2nd hiddend layer\n",
    "hidden_layer2 = tf.nn.relu(tf.matmul(hidden_layer1, input_hidden_weights2))\n",
    "\n",
    "\n",
    "\n",
    "# Computing values at the output layer\n",
    "#output of hidden layer is fed as input for the output layer and it is multiplied with weights\n",
    "output_layer = tf.matmul(hidden_layer2, hidden_output_weights2)\n",
    "\n",
    "\n",
    "# Defining Error Function # cost function. we need to minimize it  \n",
    "#softmax activation function for classification problem to compute probabilites for classes\n",
    "#cross_entropy error function as used for this classifier problem which makes backpropagation math easier\n",
    "error_function = tf.reduce_mean(tf.nn.sigmoid_cross_entropy_with_logits(logits=output_layer, labels=outputTensor))\n",
    "\n",
    "# Defining Learning Algorithm and Training Parameters\n",
    "# gradientdescent optimizer is used to minimize the error function. \n",
    "#set learning rate hyper parameter. determines the step of the gradient descent. \n",
    "training = tf.train.GradientDescentOptimizer(LEARNING_RATE).minimize(error_function)  #optimizer, minimizing error\n",
    "\n",
    "# Prediction Function # prediction will be the largest output\n",
    "prediction = tf.round(tf.sigmoid(output_layer))\n",
    "#prediction = output_layer"
   ]
  },
  {
   "cell_type": "markdown",
   "metadata": {},
   "source": [
    "\n",
    "# Training the Model"
   ]
  },
  {
   "cell_type": "code",
   "execution_count": 272,
   "metadata": {},
   "outputs": [
    {
     "data": {
      "application/vnd.jupyter.widget-view+json": {
       "model_id": "4eced7acd22f4715af51907a6a61bd4c"
      }
     },
     "metadata": {},
     "output_type": "display_data"
    },
    {
     "ename": "KeyboardInterrupt",
     "evalue": "",
     "output_type": "error",
     "traceback": [
      "\u001b[0;31m---------------------------------------------------------------------------\u001b[0m",
      "\u001b[0;31mKeyboardInterrupt\u001b[0m                         Traceback (most recent call last)",
      "\u001b[0;32m<ipython-input-272-4e67995611df>\u001b[0m in \u001b[0;36m<module>\u001b[0;34m()\u001b[0m\n\u001b[1;32m     23\u001b[0m             \u001b[0mend\u001b[0m \u001b[0;34m=\u001b[0m \u001b[0mstart\u001b[0m \u001b[0;34m+\u001b[0m \u001b[0mBATCH_SIZE\u001b[0m\u001b[0;34m\u001b[0m\u001b[0m\n\u001b[1;32m     24\u001b[0m             sess.run(training, feed_dict={inputTensor: processedTrainingData[start:end], \n\u001b[0;32m---> 25\u001b[0;31m                                           outputTensor: processedTraininglabel[start:end]})            \n\u001b[0m\u001b[1;32m     26\u001b[0m         \u001b[0;31m# Training accuracy for an epoch\u001b[0m\u001b[0;34m\u001b[0m\u001b[0;34m\u001b[0m\u001b[0m\n\u001b[1;32m     27\u001b[0m         training_accuracy.append(np.mean((processedTraininglabel) ==\n",
      "\u001b[0;32m/Users/TenzinNorden/anaconda/lib/python3.6/site-packages/tensorflow/python/client/session.py\u001b[0m in \u001b[0;36mrun\u001b[0;34m(self, fetches, feed_dict, options, run_metadata)\u001b[0m\n\u001b[1;32m    875\u001b[0m     \u001b[0;32mtry\u001b[0m\u001b[0;34m:\u001b[0m\u001b[0;34m\u001b[0m\u001b[0m\n\u001b[1;32m    876\u001b[0m       result = self._run(None, fetches, feed_dict, options_ptr,\n\u001b[0;32m--> 877\u001b[0;31m                          run_metadata_ptr)\n\u001b[0m\u001b[1;32m    878\u001b[0m       \u001b[0;32mif\u001b[0m \u001b[0mrun_metadata\u001b[0m\u001b[0;34m:\u001b[0m\u001b[0;34m\u001b[0m\u001b[0m\n\u001b[1;32m    879\u001b[0m         \u001b[0mproto_data\u001b[0m \u001b[0;34m=\u001b[0m \u001b[0mtf_session\u001b[0m\u001b[0;34m.\u001b[0m\u001b[0mTF_GetBuffer\u001b[0m\u001b[0;34m(\u001b[0m\u001b[0mrun_metadata_ptr\u001b[0m\u001b[0;34m)\u001b[0m\u001b[0;34m\u001b[0m\u001b[0m\n",
      "\u001b[0;32m/Users/TenzinNorden/anaconda/lib/python3.6/site-packages/tensorflow/python/client/session.py\u001b[0m in \u001b[0;36m_run\u001b[0;34m(self, handle, fetches, feed_dict, options, run_metadata)\u001b[0m\n\u001b[1;32m   1098\u001b[0m     \u001b[0;32mif\u001b[0m \u001b[0mfinal_fetches\u001b[0m \u001b[0;32mor\u001b[0m \u001b[0mfinal_targets\u001b[0m \u001b[0;32mor\u001b[0m \u001b[0;34m(\u001b[0m\u001b[0mhandle\u001b[0m \u001b[0;32mand\u001b[0m \u001b[0mfeed_dict_tensor\u001b[0m\u001b[0;34m)\u001b[0m\u001b[0;34m:\u001b[0m\u001b[0;34m\u001b[0m\u001b[0m\n\u001b[1;32m   1099\u001b[0m       results = self._do_run(handle, final_targets, final_fetches,\n\u001b[0;32m-> 1100\u001b[0;31m                              feed_dict_tensor, options, run_metadata)\n\u001b[0m\u001b[1;32m   1101\u001b[0m     \u001b[0;32melse\u001b[0m\u001b[0;34m:\u001b[0m\u001b[0;34m\u001b[0m\u001b[0m\n\u001b[1;32m   1102\u001b[0m       \u001b[0mresults\u001b[0m \u001b[0;34m=\u001b[0m \u001b[0;34m[\u001b[0m\u001b[0;34m]\u001b[0m\u001b[0;34m\u001b[0m\u001b[0m\n",
      "\u001b[0;32m/Users/TenzinNorden/anaconda/lib/python3.6/site-packages/tensorflow/python/client/session.py\u001b[0m in \u001b[0;36m_do_run\u001b[0;34m(self, handle, target_list, fetch_list, feed_dict, options, run_metadata)\u001b[0m\n\u001b[1;32m   1270\u001b[0m     \u001b[0;32mif\u001b[0m \u001b[0mhandle\u001b[0m \u001b[0;32mis\u001b[0m \u001b[0;32mNone\u001b[0m\u001b[0;34m:\u001b[0m\u001b[0;34m\u001b[0m\u001b[0m\n\u001b[1;32m   1271\u001b[0m       return self._do_call(_run_fn, feeds, fetches, targets, options,\n\u001b[0;32m-> 1272\u001b[0;31m                            run_metadata)\n\u001b[0m\u001b[1;32m   1273\u001b[0m     \u001b[0;32melse\u001b[0m\u001b[0;34m:\u001b[0m\u001b[0;34m\u001b[0m\u001b[0m\n\u001b[1;32m   1274\u001b[0m       \u001b[0;32mreturn\u001b[0m \u001b[0mself\u001b[0m\u001b[0;34m.\u001b[0m\u001b[0m_do_call\u001b[0m\u001b[0;34m(\u001b[0m\u001b[0m_prun_fn\u001b[0m\u001b[0;34m,\u001b[0m \u001b[0mhandle\u001b[0m\u001b[0;34m,\u001b[0m \u001b[0mfeeds\u001b[0m\u001b[0;34m,\u001b[0m \u001b[0mfetches\u001b[0m\u001b[0;34m)\u001b[0m\u001b[0;34m\u001b[0m\u001b[0m\n",
      "\u001b[0;32m/Users/TenzinNorden/anaconda/lib/python3.6/site-packages/tensorflow/python/client/session.py\u001b[0m in \u001b[0;36m_do_call\u001b[0;34m(self, fn, *args)\u001b[0m\n\u001b[1;32m   1276\u001b[0m   \u001b[0;32mdef\u001b[0m \u001b[0m_do_call\u001b[0m\u001b[0;34m(\u001b[0m\u001b[0mself\u001b[0m\u001b[0;34m,\u001b[0m \u001b[0mfn\u001b[0m\u001b[0;34m,\u001b[0m \u001b[0;34m*\u001b[0m\u001b[0margs\u001b[0m\u001b[0;34m)\u001b[0m\u001b[0;34m:\u001b[0m\u001b[0;34m\u001b[0m\u001b[0m\n\u001b[1;32m   1277\u001b[0m     \u001b[0;32mtry\u001b[0m\u001b[0;34m:\u001b[0m\u001b[0;34m\u001b[0m\u001b[0m\n\u001b[0;32m-> 1278\u001b[0;31m       \u001b[0;32mreturn\u001b[0m \u001b[0mfn\u001b[0m\u001b[0;34m(\u001b[0m\u001b[0;34m*\u001b[0m\u001b[0margs\u001b[0m\u001b[0;34m)\u001b[0m\u001b[0;34m\u001b[0m\u001b[0m\n\u001b[0m\u001b[1;32m   1279\u001b[0m     \u001b[0;32mexcept\u001b[0m \u001b[0merrors\u001b[0m\u001b[0;34m.\u001b[0m\u001b[0mOpError\u001b[0m \u001b[0;32mas\u001b[0m \u001b[0me\u001b[0m\u001b[0;34m:\u001b[0m\u001b[0;34m\u001b[0m\u001b[0m\n\u001b[1;32m   1280\u001b[0m       \u001b[0mmessage\u001b[0m \u001b[0;34m=\u001b[0m \u001b[0mcompat\u001b[0m\u001b[0;34m.\u001b[0m\u001b[0mas_text\u001b[0m\u001b[0;34m(\u001b[0m\u001b[0me\u001b[0m\u001b[0;34m.\u001b[0m\u001b[0mmessage\u001b[0m\u001b[0;34m)\u001b[0m\u001b[0;34m\u001b[0m\u001b[0m\n",
      "\u001b[0;32m/Users/TenzinNorden/anaconda/lib/python3.6/site-packages/tensorflow/python/client/session.py\u001b[0m in \u001b[0;36m_run_fn\u001b[0;34m(feed_dict, fetch_list, target_list, options, run_metadata)\u001b[0m\n\u001b[1;32m   1261\u001b[0m       \u001b[0mself\u001b[0m\u001b[0;34m.\u001b[0m\u001b[0m_extend_graph\u001b[0m\u001b[0;34m(\u001b[0m\u001b[0;34m)\u001b[0m\u001b[0;34m\u001b[0m\u001b[0m\n\u001b[1;32m   1262\u001b[0m       return self._call_tf_sessionrun(\n\u001b[0;32m-> 1263\u001b[0;31m           options, feed_dict, fetch_list, target_list, run_metadata)\n\u001b[0m\u001b[1;32m   1264\u001b[0m \u001b[0;34m\u001b[0m\u001b[0m\n\u001b[1;32m   1265\u001b[0m     \u001b[0;32mdef\u001b[0m \u001b[0m_prun_fn\u001b[0m\u001b[0;34m(\u001b[0m\u001b[0mhandle\u001b[0m\u001b[0;34m,\u001b[0m \u001b[0mfeed_dict\u001b[0m\u001b[0;34m,\u001b[0m \u001b[0mfetch_list\u001b[0m\u001b[0;34m)\u001b[0m\u001b[0;34m:\u001b[0m\u001b[0;34m\u001b[0m\u001b[0m\n",
      "\u001b[0;32m/Users/TenzinNorden/anaconda/lib/python3.6/site-packages/tensorflow/python/client/session.py\u001b[0m in \u001b[0;36m_call_tf_sessionrun\u001b[0;34m(self, options, feed_dict, fetch_list, target_list, run_metadata)\u001b[0m\n\u001b[1;32m   1348\u001b[0m     return tf_session.TF_SessionRun_wrapper(\n\u001b[1;32m   1349\u001b[0m         \u001b[0mself\u001b[0m\u001b[0;34m.\u001b[0m\u001b[0m_session\u001b[0m\u001b[0;34m,\u001b[0m \u001b[0moptions\u001b[0m\u001b[0;34m,\u001b[0m \u001b[0mfeed_dict\u001b[0m\u001b[0;34m,\u001b[0m \u001b[0mfetch_list\u001b[0m\u001b[0;34m,\u001b[0m \u001b[0mtarget_list\u001b[0m\u001b[0;34m,\u001b[0m\u001b[0;34m\u001b[0m\u001b[0m\n\u001b[0;32m-> 1350\u001b[0;31m         run_metadata)\n\u001b[0m\u001b[1;32m   1351\u001b[0m \u001b[0;34m\u001b[0m\u001b[0m\n\u001b[1;32m   1352\u001b[0m   \u001b[0;32mdef\u001b[0m \u001b[0m_call_tf_sessionprun\u001b[0m\u001b[0;34m(\u001b[0m\u001b[0mself\u001b[0m\u001b[0;34m,\u001b[0m \u001b[0mhandle\u001b[0m\u001b[0;34m,\u001b[0m \u001b[0mfeed_dict\u001b[0m\u001b[0;34m,\u001b[0m \u001b[0mfetch_list\u001b[0m\u001b[0;34m)\u001b[0m\u001b[0;34m:\u001b[0m\u001b[0;34m\u001b[0m\u001b[0m\n",
      "\u001b[0;31mKeyboardInterrupt\u001b[0m: "
     ]
    }
   ],
   "source": [
    "NUM_OF_EPOCHS = 5000  #number of forward and backward propagation of the full training data\n",
    "BATCH_SIZE = 100  #number of training data set in one forward and backward propagation \n",
    "\n",
    "training_accuracy = []\n",
    "output = []\n",
    "\n",
    "# A tensorflow session is set to run the tensorflow model graph above. \n",
    "with tf.Session() as sess:  \n",
    "    \n",
    "    # Set Global Variables ?\n",
    "    #Initialize all the variables (weights) at once. \n",
    "    tf.global_variables_initializer().run()\n",
    "    \n",
    "    for epoch in tqdm_notebook(range(NUM_OF_EPOCHS)):\n",
    "        \n",
    "        #Shuffle the Training Dataset at each epoch\n",
    "        p = np.random.permutation(range(len(TrainingData)))\n",
    "        processedTrainingData  = TrainingData[p]\n",
    "        processedTraininglabel = TrainingTarget[p]\n",
    "        \n",
    "        # Start batch training  \n",
    "        for start in range(0, len(processedTrainingData), BATCH_SIZE):\n",
    "            end = start + BATCH_SIZE\n",
    "            sess.run(training, feed_dict={inputTensor: processedTrainingData[start:end], \n",
    "                                          outputTensor: processedTraininglabel[start:end]})            \n",
    "        # Training accuracy for an epoch \n",
    "        training_accuracy.append(np.mean((processedTraininglabel) ==\n",
    "                                         sess.run(prediction, feed_dict={inputTensor: processedTrainingData,\n",
    "                                                             outputTensor: processedTraininglabel})))\n",
    "    # Testing : processedtesting data as input\n",
    "    predictedTestTarget = sess.run(prediction, feed_dict={inputTensor: TestingData})\n",
    "   # erroroutput = sess.run(error_function, feed_dict={inputTensor:processedTrainingData,\n",
    "#                                                      outputTensor: processedTrainingLabel})"
   ]
  },
  {
   "cell_type": "code",
   "execution_count": 270,
   "metadata": {},
   "outputs": [
    {
     "data": {
      "text/plain": [
       "<matplotlib.axes._subplots.AxesSubplot at 0x12835f048>"
      ]
     },
     "execution_count": 270,
     "metadata": {},
     "output_type": "execute_result"
    },
    {
     "data": {
      "image/png": "[encoded data removed]",
      "text/plain": [
       "<matplotlib.figure.Figure at 0x12accd588>"
      ]
     },
     "metadata": {},
     "output_type": "display_data"
    }
   ],
   "source": [
    "# pandas dataframe. plotting traning accuracy for every epochs. \n",
    "df = pd.DataFrame()\n",
    "df['acc'] = training_accuracy\n",
    "df.plot(grid=True)\n"
   ]
  },
  {
   "cell_type": "markdown",
   "metadata": {},
   "source": [
    "# Testing the Model [Software 2.0]"
   ]
  },
  {
   "cell_type": "code",
   "execution_count": 271,
   "metadata": {},
   "outputs": [
    {
     "name": "stdout",
     "output_type": "stream",
     "text": [
      "Errors: 6  Correct :152\n",
      "Testing Accuracy: 96.20253164556962\n"
     ]
    }
   ],
   "source": [
    "# finding the accuracy by comparing with the known testing labels.\n",
    "\n",
    "wrong   = 0\n",
    "right   = 0\n",
    "\n",
    "predictedTestTargetList = []\n",
    "\n",
    "for i,j in zip(TestingTarget,predictedTestTarget):\n",
    "\n",
    "    if i == j:\n",
    "        right = right + 1\n",
    "    else:\n",
    "        wrong = wrong + 1\n",
    "\n",
    "print(\"Errors: \" + str(wrong), \" Correct :\" + str(right))\n",
    "\n",
    "print(\"Testing Accuracy: \" + str(right/(right+wrong)*100))\n",
    "\n",
    "# Please input your UBID and personNumber \n",
    "# testDataInput = testingData['input'].tolist()\n",
    "# testDataLabel = testingData['label'].tolist()\n",
    "\n",
    "# testDataInput.insert(0, \"tenzinno\")\n",
    "# testDataLabel.insert(0, \"50096989\")\n",
    "\n",
    "# testDataInput.insert(1, \"tenzinno\")\n",
    "# testDataLabel.insert(1, \"50096989\")\n",
    "\n",
    "# predictedTestLabelList.insert(0, \"\")\n",
    "# predictedTestLabelList.insert(1, \"\")\n",
    "\n",
    "# #create columns in pandas dataframe with column names input and label, with values test data and respective labels\n",
    "# output = {}\n",
    "# output[\"input\"] = testDataInput\n",
    "# output[\"label\"] = testDataLabel\n",
    "\n",
    "# # create column name predicted label with the predicted labels for the test data\n",
    "# output[\"predicted_label\"] = predictedTestLabelList\n",
    "\n",
    "# # create a csv output file of the pandas dataframe\n",
    "# opdf = pd.DataFrame(output)\n",
    "# opdf.to_csv('output2.csv')"
   ]
  },
  {
   "cell_type": "code",
   "execution_count": null,
   "metadata": {
    "collapsed": true
   },
   "outputs": [],
   "source": []
  }
 ],
 "metadata": {
  "kernelspec": {
   "display_name": "Python 3",
   "language": "python",
   "name": "python3"
  },
  "language_info": {
   "codemirror_mode": {
    "name": "ipython",
    "version": 3
   },
   "file_extension": ".py",
   "mimetype": "text/x-python",
   "name": "python",
   "nbconvert_exporter": "python",
   "pygments_lexer": "ipython3",
   "version": "3.6.1"
  }
 },
 "nbformat": 4,
 "nbformat_minor": 2
}
