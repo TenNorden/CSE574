{
 "cells": [
  {
   "cell_type": "code",
   "execution_count": 3,
   "metadata": {
    "collapsed": true
   },
   "outputs": [],
   "source": [
    "from sklearn.cluster import KMeans\n",
    "import numpy as np\n",
    "import csv\n",
    "import math\n",
    "import matplotlib.pyplot\n",
    "from matplotlib import pyplot as plt\n",
    "plt.style.use('ggplot')"
   ]
  },
  {
   "cell_type": "code",
   "execution_count": 4,
   "metadata": {
    "collapsed": true
   },
   "outputs": [],
   "source": [
    "# get data from .csv file and parse them \n",
    "#filename = filename.csv\n",
    "def get_data(filename):\n",
    "    with open(filename, 'r') as f:\n",
    "        dat = csv.reader(f, delimiter = ',')\n",
    "        #get column name from first row\n",
    "        col_name = next(dat)\n",
    "        #get all the rows as a list\n",
    "        data = list(dat)\n",
    "        #return data as numpy array\n",
    "    return np.array(data)\n",
    "\n",
    "\n",
    "#Processing Dataset # concatenation of paired up img_ids\n",
    "# args: data: humanobserved-features , # pair: list of same or diff pairs. \n",
    "def process_data(data, pair, x):\n",
    "    \n",
    "    same = []\n",
    "    for i in range(len(pair)):\n",
    "        for j in range(len(data)):\n",
    "            if pair[i][x] == data[j][0]:\n",
    "                a = np.concatenate((data[j][1:], [pair[i][-1]]), axis = 0) \n",
    "                #a = (data[j][1:])\n",
    "                same.append(a)\n",
    "    \n",
    "    return np.array(same)"
   ]
  },
  {
   "cell_type": "code",
   "execution_count": 5,
   "metadata": {},
   "outputs": [
    {
     "name": "stdout",
     "output_type": "stream",
     "text": [
      "(1026, 10)\n"
     ]
    }
   ],
   "source": [
    "data = get_data('HumanObserved-Features-Data.csv')\n",
    "dat = np.array([data[d][1:] for d in range(len(data))])\n",
    "d_pair = get_data('diffn_pairs.csv')\n",
    "s_pair = get_data('same_pairs.csv')\n",
    "\n",
    "print(dat.shape)\n",
    "#print(d_pair.shape)\n",
    "#print(s_pair.shape)\n"
   ]
  },
  {
   "cell_type": "markdown",
   "metadata": {},
   "source": [
    "# concatenate same data pair"
   ]
  },
  {
   "cell_type": "code",
   "execution_count": 6,
   "metadata": {},
   "outputs": [
    {
     "name": "stdout",
     "output_type": "stream",
     "text": [
      "(791, 19)\n",
      "['2' '1' '1' '0' '2' '2' '0' '1' '2' '2' '1' '0' '3' '2' '2' '1' '2' '2'\n",
      " '1']\n"
     ]
    }
   ],
   "source": [
    "\n",
    "s1_h = process_data(dat, s_pair, x = 0)\n",
    "s2_h = process_data(dat, s_pair, x = 1)\n",
    "\n",
    "\n",
    "s = np.array(np.concatenate((s1_h,s2_h), axis = 1))\n",
    "# for i in range(len(s_pair)):\n",
    "#     so= np.concatenate((s, [s_pair[i][-1]]), axis = 1)\n",
    "s = np.delete(s, 9, 1)\n",
    "print(s.shape)\n",
    "print(s[1])"
   ]
  },
  {
   "cell_type": "markdown",
   "metadata": {},
   "source": [
    "# concatenate diff data pair"
   ]
  },
  {
   "cell_type": "code",
   "execution_count": 7,
   "metadata": {},
   "outputs": [
    {
     "name": "stdout",
     "output_type": "stream",
     "text": [
      "(293032, 20)\n"
     ]
    }
   ],
   "source": [
    "d1_h = process_data(dat, d_pair, x = 0)\n",
    "d2_h = process_data(dat, d_pair, x = 1)\n",
    "\n",
    "d = np.array(np.concatenate((d1_h,d2_h), axis = 1))\n",
    "# get equal number of different pairs as same pair, to get rid of bias. \n",
    "\n",
    "print(d.shape)"
   ]
  },
  {
   "cell_type": "markdown",
   "metadata": {},
   "source": [
    "# Concatenate same and different pairs and randomly shuffle "
   ]
  },
  {
   "cell_type": "code",
   "execution_count": 8,
   "metadata": {},
   "outputs": [
    {
     "name": "stdout",
     "output_type": "stream",
     "text": [
      "(1582, 19)\n",
      "[['2' '2' '1' '3' '0' '2' '0' '1' '1' '0' '1' '1' '2' '1' '2' '1' '1' '1'\n",
      "  '0']\n",
      " ['3' '1' '1' '0' '2' '2' '3' '2' '2' '2' '1' '0' '1' '2' '2' '1' '3' '2'\n",
      "  '1']\n",
      " ['3' '4' '1' '0' '2' '2' '1' '0' '2' '3' '1' '1' '1' '2' '1' '1' '0' '2'\n",
      "  '0']\n",
      " ['3' '2' '1' '3' '2' '2' '0' '4' '2' '2' '1' '1' '3' '0' '2' '0' '1' '1'\n",
      "  '0']\n",
      " ['1' '1' '0' '1' '0' '3' '1' '0' '1' '1' '0' '0' '1' '0' '1' '3' '2' '2'\n",
      "  '0']]\n"
     ]
    }
   ],
   "source": [
    "d = np.delete(d, 9, 1)\n",
    "np.random.shuffle(d)\n",
    "d = d[:791] \n",
    "\n",
    "h_obs_con = np.concatenate((s, d), axis = 0)\n",
    "np.random.shuffle(h_obs_con) # randomly mix same and diff pairs \n",
    "print(h_obs_con.shape)\n",
    "print(h_obs_con[:5]) # print first five rows of the parsed data"
   ]
  },
  {
   "cell_type": "code",
   "execution_count": 10,
   "metadata": {},
   "outputs": [
    {
     "name": "stdout",
     "output_type": "stream",
     "text": [
      "(1582,)\n",
      "(1582, 18)\n"
     ]
    }
   ],
   "source": [
    "# get ground truth, target vector 't', which is the last column of the dataset. \n",
    "target = np.array([h_obs_con[t][-1] for t in range(len(h_obs_con))]).astype(float)\n",
    "print(target.shape)\n",
    "\n",
    "##get data : human observed features concatenated (18 features)\n",
    "\n",
    "DataMatrix = np.array([h_obs_con[t][:-1] for t in range(len(h_obs_con))]).astype(float)\n",
    "print(DataMatrix.shape)\n"
   ]
  },
  {
   "cell_type": "markdown",
   "metadata": {},
   "source": [
    "# LINEAR REGRESSION "
   ]
  },
  {
   "cell_type": "code",
   "execution_count": 11,
   "metadata": {
    "collapsed": true
   },
   "outputs": [],
   "source": [
    "maxAcc = 0.0\n",
    "maxIter = 0\n",
    "C_Lambda = 0.03  # regularizer for Closed Form Solution: tunable hyperparameter\n",
    "TrainingPercent = 80  # 80% of sample input will be assigned as training data set\n",
    "ValidationPercent = 10 # 10% for validation\n",
    "TestPercent = 10  # 10% for Testing the model\n",
    "M = 15 # no of clusters # radial basis functions  # also represents the complexity of the model\n",
    "PHI = []  # store basis functions in this list\n",
    "IsSynthetic = False   \n"
   ]
  },
  {
   "cell_type": "code",
   "execution_count": 102,
   "metadata": {
    "collapsed": true
   },
   "outputs": [],
   "source": [
    "# 80% o/p target vector assigned as training \n",
    "def GenerateTrainingTarget(rawTraining,TrainingPercent = 80):\n",
    "    TrainingLen = int(math.ceil(len(rawTraining)*(TrainingPercent*0.01)))\n",
    "    t           = rawTraining[:TrainingLen]\n",
    "    #print(str(TrainingPercent) + \"% Training Target Generated..\")\n",
    "    return t\n",
    "\n",
    "#80 of the data matrix assigned as training\n",
    "def GenerateTrainingDataMatrix(rawData, TrainingPercent = 80):\n",
    "    T_len = int(math.ceil(len(rawData)*(TrainingPercent*0.01)))\n",
    "    d2 = rawData[:T_len]\n",
    "    #print(str(TrainingPercent) + \"% Training Data Generated..\")\n",
    "    return d2\n",
    "\n",
    "#10% of dataset assigned a validation\n",
    "def GenerateValData(rawData, ValPercent, TrainingCount): \n",
    "    valSize = int(math.ceil(len(rawData)*ValPercent*0.01))\n",
    "    V_End = TrainingCount + valSize\n",
    "    dataMatrix = rawData[TrainingCount+1 : V_End]\n",
    "    #print (str(ValPercent) + \"% Val Data Generated..\")  \n",
    "    return dataMatrix\n",
    "\n",
    "#10% of target vector for validation\n",
    "def GenerateValTargetVector(rawData, ValPercent, TrainingCount): \n",
    "    valSize = int(math.ceil(len(rawData)*ValPercent*0.01))\n",
    "    V_End = TrainingCount + valSize\n",
    "    t =rawData[TrainingCount+1:V_End]\n",
    "    #print (str(ValPercent) + \"% Val Target Data Generated..\")\n",
    "    return t\n",
    "\n",
    "# get variance of the training data and generate a diagonal matrix of variances also called big sigma. \n",
    "#generate a 41x41 diagonal matrix with all other elements as zero.\n",
    "def GenerateBigSigma(Data, MuMatrix,TrainingPercent,IsSynthetic):\n",
    "    BigSigma    = np.zeros((len(Data),len(Data)))  # creating a dummy zero squares matrix m X m\n",
    "    DataT       = np.transpose(Data)\n",
    "    TrainingLen = math.ceil(len(DataT)*(TrainingPercent*0.01)) # length of the training data 80% of DataT \n",
    "    varVect     = []\n",
    "    for i in range(0,len(DataT[0])):\n",
    "        vct = []\n",
    "        for j in range(0,int(TrainingLen)):\n",
    "            vct.append(Data[i][j])    \n",
    "        varVect.append(np.var(vct))  # np.var : compute variance \n",
    "    \n",
    "    for j in range(len(Data)):\n",
    "        BigSigma[j][j] = varVect[j]  # diagonal elements of bigsigma : variance \n",
    "    if IsSynthetic == True:\n",
    "        BigSigma = np.dot(3,BigSigma)\n",
    "    else:\n",
    "        # not necessary\n",
    "        BigSigma = np.dot(200,BigSigma)   # scaling the variance by multiplying it by 200\n",
    "    ##print (\"BigSigma Generated..\")\n",
    "    return BigSigma\n",
    "\n",
    "\n",
    "#computing the exponential term of the Gaussian basis function matrices and return a scalar value\n",
    "def GetScalar(DataRow,MuRow, BigSigInv):  \n",
    "    R = np.subtract(DataRow,MuRow)\n",
    "    T = np.dot(BigSigInv,np.transpose(R))  \n",
    "    L = np.dot(R,T)\n",
    "    return L\n",
    "\n",
    "#computing Gaussian Radial basis function.\n",
    "def GetRadialBasisOut(DataRow,MuRow, BigSigInv):    \n",
    "    phi_x = math.exp(-0.5*GetScalar(DataRow,MuRow,BigSigInv))\n",
    "    return phi_x\n",
    "\n",
    "#generating design matrix\n",
    "def GetPhiMatrix(Data, MuMatrix, BigSigma, TrainingPercent = 80):\n",
    "    DataT = np.transpose(Data)\n",
    "    TrainingLen = math.ceil(len(DataT)*(TrainingPercent*0.01))         \n",
    "    #generate a matriz placeholder \n",
    "    PHI = np.zeros((int(TrainingLen),len(MuMatrix))) \n",
    "    BigSigInv = np.linalg.inv(BigSigma)\n",
    "    \n",
    "    # iterate : for each mu(anchor point), iterate over the row data points\n",
    "    for  C in range(0,len(MuMatrix)):\n",
    "        for R in range(0,int(TrainingLen)): # \n",
    "            PHI[R][C] = GetRadialBasisOut(DataT[R], MuMatrix[C], BigSigInv)\n",
    "    #print (\"PHI Generated..\")\n",
    "    return PHI\n",
    "\n",
    "\n",
    "#closed form solution # w/ regularizer  : Returns w*\n",
    "def GetWeightsClosedForm(PHI, T, Lambda):\n",
    "    Lambda_I = np.identity(len(PHI[0])) # identity matrix\n",
    "    for i in range(0,len(PHI[0])):\n",
    "        Lambda_I[i][i] = Lambda\n",
    "    PHI_T       = np.transpose(PHI)  \n",
    "    PHI_SQR     = np.dot(PHI_T,PHI)\n",
    "    PHI_SQR_LI  = np.add(Lambda_I,PHI_SQR)\n",
    "    PHI_SQR_INV = np.linalg.inv(PHI_SQR_LI)\n",
    "    INTER       = np.dot(PHI_SQR_INV, PHI_T)\n",
    "    W           = np.dot(INTER, T)\n",
    "    ##print (\"Training Weights Generated..\")\n",
    "    return W\n",
    "\n",
    "# #contruct new design matrix based on validation and testing data\n",
    "# def GetPhiMatrix(Data, MuMatrix, BigSigma, TrainingPercent = 80):\n",
    "#     DataT = np.transpose(Data)\n",
    "#     TrainingLen = math.ceil(len(DataT)*(TrainingPercent*0.01))         \n",
    "#     PHI = np.zeros((int(TrainingLen),len(MuMatrix))) \n",
    "#     BigSigInv = np.linalg.inv(BigSigma)\n",
    "#     for  C in range(0,len(MuMatrix)):\n",
    "#         for R in range(0,int(TrainingLen)):\n",
    "#             PHI[R][C] = GetRadialBasisOut(DataT[R], MuMatrix[C], BigSigInv)\n",
    "#     #print (\"PHI Generated..\")\n",
    "#     return PHI\n",
    "\n",
    "#validation \n",
    "def GetValTest(VAL_PHI,W):\n",
    "    Y = np.dot(W,np.transpose(VAL_PHI))\n",
    "    ##print (\"Test Out Generated..\")\n",
    "    return Y\n",
    "\n",
    "# computing Erms\n",
    "def GetErms(VAL_TEST_OUT,ValDataAct):\n",
    "    sum = 0.0\n",
    "    t=0\n",
    "    accuracy = 0.0\n",
    "    counter = 0\n",
    "    val = 0.0\n",
    "    for i in range(0,len(VAL_TEST_OUT)):\n",
    "        sum = sum + math.pow((ValDataAct[i] - VAL_TEST_OUT[i]),2)\n",
    "        \n",
    "        # get accuracy. If output == target value, add 1 to couter. \n",
    "        # accuracy =(no of correct match/total number)* 100\n",
    "        if(int(np.around(VAL_TEST_OUT[i], 0)) == ValDataAct[i]):\n",
    "            counter+=1\n",
    "    saccuracy = (float((counter*100))/float(len(VAL_TEST_OUT)))\n",
    "#    print (\"Accuracy Generated..\")\n",
    "#    print (\"Validation E_RMS : \" + str(math.sqrt(sum/len(VAL_TEST_OUT))))\n",
    "    return (str(saccuracy) + ',' +  str(math.sqrt(sum/len(VAL_TEST_OUT))))"
   ]
  },
  {
   "cell_type": "code",
   "execution_count": 13,
   "metadata": {},
   "outputs": [
    {
     "name": "stdout",
     "output_type": "stream",
     "text": [
      "(1266,)\n",
      "(1266, 18)\n"
     ]
    }
   ],
   "source": [
    "#generate training target and training data\n",
    "TrainingTarget = np.array(GenerateTrainingTarget(target,TrainingPercent))\n",
    "TrainingData   = GenerateTrainingDataMatrix(DataMatrix,TrainingPercent)\n",
    "print(TrainingTarget.shape)\n",
    "print(TrainingData.shape)"
   ]
  },
  {
   "cell_type": "code",
   "execution_count": 14,
   "metadata": {},
   "outputs": [
    {
     "name": "stdout",
     "output_type": "stream",
     "text": [
      "(158,)\n",
      "(158, 18)\n"
     ]
    }
   ],
   "source": [
    "# Generate validation target and data.\n",
    "ValDataAct = np.array(GenerateValTargetVector(target,ValidationPercent, (len(TrainingTarget))))\n",
    "ValData    = GenerateValData(DataMatrix,ValidationPercent, (len(TrainingTarget)))\n",
    "print(ValDataAct.shape)\n",
    "print(ValData.shape)\n",
    "#ValData[:5]"
   ]
  },
  {
   "cell_type": "code",
   "execution_count": 15,
   "metadata": {},
   "outputs": [
    {
     "name": "stdout",
     "output_type": "stream",
     "text": [
      "(157,)\n",
      "(157, 18)\n"
     ]
    }
   ],
   "source": [
    "#generate test target and data\n",
    "TestDataAct = np.array(GenerateValTargetVector(target,TestPercent, (len(TrainingTarget)+len(ValDataAct))))\n",
    "TestData = GenerateValData(DataMatrix,TestPercent, (len(TrainingTarget)+len(ValDataAct)))\n",
    "print(TestDataAct.shape)\n",
    "print(TestData.shape)\n",
    "\n",
    "#TestData[:5]\n",
    "# plt.hist(TestData, bins = 'auto')\n",
    "# plt.show()"
   ]
  },
  {
   "cell_type": "code",
   "execution_count": 22,
   "metadata": {
    "collapsed": true
   },
   "outputs": [],
   "source": [
    "Erms_Tr = []\n",
    "Erms_Val = []\n",
    "Erms_Test = []\n",
    "\n",
    "\n",
    "ErmsArr = []\n",
    "AccuracyArr = []\n",
    "\n",
    "# k means clustering using scikit learn, # fit in the data after clustering\n",
    "kmeans = KMeans(n_clusters=M, random_state=0).fit(TrainingData)\n",
    "#centroid of clusters\n",
    "Mu = kmeans.cluster_centers_\n",
    "\n",
    "# based on centroid, calculate variance \n",
    "BigSigma     = GenerateBigSigma(DataMatrix.T, Mu, TrainingPercent, IsSynthetic)\n",
    "\n",
    "#GetPhiMatrix: to get radial basis function# 1.3 design matrix\n",
    "TRAINING_PHI = GetPhiMatrix(DataMatrix.T, Mu, BigSigma, TrainingPercent)\n",
    "W            = GetWeightsClosedForm(TRAINING_PHI,TrainingTarget,(C_Lambda)) \n",
    "TEST_PHI     = GetPhiMatrix(TestData.T, Mu, BigSigma, 100) \n",
    "VAL_PHI      = GetPhiMatrix(ValData.T, Mu, BigSigma, 100)\n",
    "\n",
    "\n",
    "TR_TEST_OUT  = GetValTest(TRAINING_PHI,W)\n",
    "VAL_TEST_OUT = GetValTest(VAL_PHI,W)\n",
    "TEST_OUT     = GetValTest(TEST_PHI,W)\n",
    "\n",
    "#     #print(TRAINING_PHI[0])\n",
    "    \n",
    "# print(Mu.shape)\n",
    "# print(BigSigma.shape)"
   ]
  },
  {
   "cell_type": "code",
   "execution_count": 1,
   "metadata": {},
   "outputs": [
    {
     "ename": "NameError",
     "evalue": "name 'Mu' is not defined",
     "output_type": "error",
     "traceback": [
      "\u001b[0;31m---------------------------------------------------------------------------\u001b[0m",
      "\u001b[0;31mNameError\u001b[0m                                 Traceback (most recent call last)",
      "\u001b[0;32m<ipython-input-1-7dc69b3efee3>\u001b[0m in \u001b[0;36m<module>\u001b[0;34m()\u001b[0m\n\u001b[1;32m      1\u001b[0m \u001b[0;31m#print out the shapes of all the matrix generated\u001b[0m\u001b[0;34m\u001b[0m\u001b[0;34m\u001b[0m\u001b[0m\n\u001b[0;32m----> 2\u001b[0;31m \u001b[0mprint\u001b[0m\u001b[0;34m(\u001b[0m\u001b[0mMu\u001b[0m\u001b[0;34m.\u001b[0m\u001b[0mshape\u001b[0m\u001b[0;34m)\u001b[0m\u001b[0;34m\u001b[0m\u001b[0m\n\u001b[0m\u001b[1;32m      3\u001b[0m \u001b[0mprint\u001b[0m\u001b[0;34m(\u001b[0m\u001b[0mBigSigma\u001b[0m\u001b[0;34m.\u001b[0m\u001b[0mshape\u001b[0m\u001b[0;34m)\u001b[0m\u001b[0;34m\u001b[0m\u001b[0m\n\u001b[1;32m      4\u001b[0m \u001b[0mprint\u001b[0m\u001b[0;34m(\u001b[0m\u001b[0mTRAINING_PHI\u001b[0m\u001b[0;34m.\u001b[0m\u001b[0mshape\u001b[0m\u001b[0;34m)\u001b[0m\u001b[0;34m\u001b[0m\u001b[0m\n\u001b[1;32m      5\u001b[0m \u001b[0mprint\u001b[0m\u001b[0;34m(\u001b[0m\u001b[0mTestTarget\u001b[0m\u001b[0;34m)\u001b[0m\u001b[0;34m\u001b[0m\u001b[0m\n",
      "\u001b[0;31mNameError\u001b[0m: name 'Mu' is not defined"
     ]
    }
   ],
   "source": [
    "#print out the shapes of all the matrix generated\n",
    "print(Mu.shape)\n",
    "print(BigSigma.shape)\n",
    "print(TRAINING_PHI.shape)\n",
    "print(TestTarget)\n",
    "print(VAL_PHI.shape)\n",
    "print(TEST_PHI.shape)\n",
    "print(W.shape)"
   ]
  },
  {
   "cell_type": "code",
   "execution_count": 166,
   "metadata": {
    "collapsed": true
   },
   "outputs": [],
   "source": [
    "def Accuracy(OutputValue, TargetValue ):\n",
    "\n",
    "    wrong   = 0\n",
    "    right   = 0\n",
    "\n",
    "    for i,j in zip(OutputValue, TargetValue):\n",
    "    \n",
    "        if i == j:\n",
    "            right = right + 1\n",
    "        else:\n",
    "            wrong = wrong + 1\n",
    "    return str(right/(right+wrong)*100)\n",
    "#print(\"Errors: \" + str(wrong), \" Correct :\" + str(right))\n",
    "\n",
    "#print(\" Accuracy: \" + Acc + '%')\n",
    "#Accuracy(Out_Test_Target,TrainingTarget)"
   ]
  },
  {
   "cell_type": "code",
   "execution_count": 171,
   "metadata": {},
   "outputs": [
    {
     "name": "stdout",
     "output_type": "stream",
     "text": [
      "(1266,)\n",
      "(1266,)\n",
      "(1266, 15)\n",
      "51.26582278481012\n"
     ]
    }
   ],
   "source": [
    "\n",
    "W_Now        = np.dot(220, W) # unnecessary\n",
    "La           = 5   #lambda: 0.01 , .05, .1, .5, 1, 5, 10\n",
    "learningRate = 0.01  # experimnet with 0.01 to 0.5\n",
    "L_Erms_Val   = []\n",
    "L_Erms_TR    = []\n",
    "L_Erms_Test  = []\n",
    "W_Mat        = []\n",
    "#m = 15\n",
    "E_Tr   = []\n",
    "Acc_TR = []\n",
    "Acc_Val = []\n",
    "Acc_Test = []\n",
    "\n",
    "Er = []\n",
    "W_Matrix = []\n",
    "# no. of iteration->hyperparameter# \n",
    "#iteration over 1000 data points. adjustable: can stop when Erms value is stagnant\n",
    "#400 iterations is used when changing different M\n",
    "\n",
    "for i in range(0, 500):  \n",
    "#    learningRate = 0.1/np.sqrt(5*(i+1)) # learning rate decreases with every iteration, # self adjusting \n",
    "    \n",
    "    #print ('---------Iteration: ' + str(i) + '--------------')\n",
    "    Delta_E_D     = -np.dot((TrainingTarget[i] - np.dot(np.transpose(W_Now),TRAINING_PHI[i])),TRAINING_PHI[i])\n",
    "    La_Delta_E_W  = np.dot(La,W_Now)  # \n",
    "    Delta_E       = np.add(Delta_E_D,La_Delta_E_W)    # eqn 10\n",
    "    \n",
    "    Delta_W       = -np.dot(learningRate,Delta_E)\n",
    "    W_T_Next      = W_Now + Delta_W  # new weight\n",
    "    W_Now         = W_T_Next # updated weight\n",
    "    W_Matrix.append(W_Now)\n",
    "    \n",
    "\n",
    "    \n",
    "    #-----------------TrainingData Accuracy---------------------#\n",
    "    TR_TEST_OUT   = GetValTest(TRAINING_PHI,W_T_Next) \n",
    "    Erms_TR       = GetErms(TR_TEST_OUT, TrainingTarget)\n",
    "    Er.append(Erms_TR)\n",
    "    L_Erms_TR.append(float(Erms_TR.split(',')[1]))\n",
    "    A_TR = Accuracy(np.around(TR_TEST_OUT),TrainingTarget)\n",
    "    Acc_TR.append(float(Erms_TR.split(',')[0]))\n",
    "    \n",
    "    #-----------------ValidationData Accuracy---------------------#\n",
    "    VAL_TEST_OUT  = GetValTest(VAL_PHI,W_T_Next) \n",
    "    Erms_Val      = GetErms(VAL_TEST_OUT,ValDataAct)\n",
    "    L_Erms_Val.append(float(Erms_Val.split(',')[1]))\n",
    "    A_Val = Accuracy((np.around(VAL_TEST_OUT)),TrainingTarget)\n",
    "    Acc_Val.append(A_Val)\n",
    "    \n",
    "    #-----------------TestingData Accuracy---------------------#\n",
    "    TEST_OUT      = GetValTest(TEST_PHI,W_T_Next) \n",
    "    Erms_Test = GetErms(TEST_OUT,TestDataAct)\n",
    "    L_Erms_Test.append(float(Erms_Test.split(',')[1]))\n",
    "    A_Test = Accuracy(np.around(TEST_OUT),TrainingTarget)\n",
    "    Acc_Test.append(float(A_Test))\n",
    "\n",
    "\n",
    "\n",
    "\n",
    "print(TrainingTarget.shape)\n",
    "print(TR_TEST_OUT.shape)\n",
    "print(TRAINING_PHI.shape)\n",
    "print(Acc_Val[60])\n",
    "\n",
    "#print(output)\n",
    "#print(TR_TEST_OUT)"
   ]
  },
  {
   "cell_type": "code",
   "execution_count": 235,
   "metadata": {},
   "outputs": [
    {
     "data": {
      "text/plain": [
       "<matplotlib.figure.Figure at 0x11a1dccf8>"
      ]
     },
     "metadata": {},
     "output_type": "display_data"
    },
    {
     "data": {
      "image/png": "[encoded data removed]",
      "text/plain": [
       "<matplotlib.figure.Figure at 0x11a119198>"
      ]
     },
     "metadata": {},
     "output_type": "display_data"
    }
   ],
   "source": [
    "# #plotting Erms_Test vs iteration\n",
    "iterations = 1000\n",
    "\n",
    "# plt.figure(figsize=(10,6))\n",
    "# plt.plot(range(len(Acc_Val)), Acc_Val,'bo', label= 'Accuracy')\n",
    "# plt.plot(range(len(L_Erms_Test)), L_Erms_Test, 'ro', label = 'Erms')\n",
    "# plt.grid(True)\n",
    "\n",
    "# plt.xlabel(\"Iteration number\")\n",
    "# plt.ylabel(\"L_Erms_Test\")\n",
    "# plt.xlim([-0.05*iterations,1.05*iterations])\n",
    "\n",
    "# plt.legend()\n",
    "# plt.savefig('Erms_Test_iteration.png')\n",
    "# plt.show()\n",
    "\n",
    "\n",
    "fig, ax1 = plt.subplots(figsize = (15, 8))\n",
    "\n",
    "ax1.grid(True)\n",
    "color = 'tab:red'\n",
    "ax1.set_xlabel('Iteration', fontweight = 'bold', fontsize = '15')\n",
    "ax1.set_ylabel('Erms_Testing',fontweight = 'bold', fontsize = '15', color=color)\n",
    "ax1.plot(range(len(L_Erms_Test)), L_Erms_Test, '-o', color=color, label = 'Erms')\n",
    "ax1.set_ylim(0, 100)\n",
    "ax1.legend(loc = 'upper left', fontsize = 15)\n",
    "ax1.tick_params(axis='y', labelcolor=color)\n",
    "\n",
    "\n",
    "\n",
    "ax2 = ax1.twinx()  # instantiate a second axes that shares the same x-axis\n",
    "ax2.grid(True)\n",
    "color = 'tab:blue'\n",
    "ax2.set_ylabel('Accuracy',fontweight = 'bold', fontsize = '15', color=color)  # we already handled the x-label with ax1\n",
    "ax2.plot(range(len(Acc_Test)), Acc_Test, '-*', markersize = 6, color=color, label = 'Accuracy')\n",
    "ax2.set_ylim(0, 100)\n",
    "ax2.legend(loc ='upper right', fontsize = 15)\n",
    "ax2.tick_params(axis='y', labelcolor=color)\n",
    "\n",
    "\n",
    "fig.tight_layout()  # otherwise the right y-label is slightly clipped\n",
    "\n",
    "\n",
    "plt.show()\n",
    "plt.savefig('Erms_Acc_Conc_LinR.png')"
   ]
  },
  {
   "cell_type": "code",
   "execution_count": null,
   "metadata": {
    "collapsed": true
   },
   "outputs": [],
   "source": []
  }
 ],
 "metadata": {
  "kernelspec": {
   "display_name": "Python 3",
   "language": "python",
   "name": "python3"
  },
  "language_info": {
   "codemirror_mode": {
    "name": "ipython",
    "version": 3
   },
   "file_extension": ".py",
   "mimetype": "text/x-python",
   "name": "python",
   "nbconvert_exporter": "python",
   "pygments_lexer": "ipython3",
   "version": "3.6.1"
  }
 },
 "nbformat": 4,
 "nbformat_minor": 2
}
